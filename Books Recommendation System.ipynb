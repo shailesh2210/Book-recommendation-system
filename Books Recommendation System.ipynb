{
 "cells": [
  {
   "cell_type": "code",
   "execution_count": 5,
   "id": "2a26c83e",
   "metadata": {},
   "outputs": [],
   "source": [
    "import pandas as pd\n",
    "import numpy as np\n",
    "\n",
    "# visualization\n",
    "import matplotlib.pyplot as plt\n",
    "import seaborn as sns\n",
    "\n",
    "# for interactive visualization\n",
    "import ipywidgets\n",
    "from ipywidgets import interact\n",
    "from ipywidgets import interact_manual"
   ]
  },
  {
   "cell_type": "code",
   "execution_count": 7,
   "id": "5b322afb",
   "metadata": {},
   "outputs": [
    {
     "name": "stderr",
     "output_type": "stream",
     "text": [
      "b'Skipping line 3350: expected 12 fields, saw 13\\nSkipping line 4704: expected 12 fields, saw 13\\nSkipping line 5879: expected 12 fields, saw 13\\nSkipping line 8981: expected 12 fields, saw 13\\n'\n"
     ]
    }
   ],
   "source": [
    "data = pd.read_csv(\"books.csv\", error_bad_lines=False)"
   ]
  },
  {
   "cell_type": "code",
   "execution_count": 8,
   "id": "346c3ba8",
   "metadata": {},
   "outputs": [
    {
     "data": {
      "text/html": [
       "<div>\n",
       "<style scoped>\n",
       "    .dataframe tbody tr th:only-of-type {\n",
       "        vertical-align: middle;\n",
       "    }\n",
       "\n",
       "    .dataframe tbody tr th {\n",
       "        vertical-align: top;\n",
       "    }\n",
       "\n",
       "    .dataframe thead th {\n",
       "        text-align: right;\n",
       "    }\n",
       "</style>\n",
       "<table border=\"1\" class=\"dataframe\">\n",
       "  <thead>\n",
       "    <tr style=\"text-align: right;\">\n",
       "      <th></th>\n",
       "      <th>bookID</th>\n",
       "      <th>title</th>\n",
       "      <th>authors</th>\n",
       "      <th>average_rating</th>\n",
       "      <th>isbn</th>\n",
       "      <th>isbn13</th>\n",
       "      <th>language_code</th>\n",
       "      <th>num_pages</th>\n",
       "      <th>ratings_count</th>\n",
       "      <th>text_reviews_count</th>\n",
       "      <th>publication_date</th>\n",
       "      <th>publisher</th>\n",
       "    </tr>\n",
       "  </thead>\n",
       "  <tbody>\n",
       "    <tr>\n",
       "      <th>0</th>\n",
       "      <td>1</td>\n",
       "      <td>Harry Potter and the Half-Blood Prince (Harry ...</td>\n",
       "      <td>J.K. Rowling/Mary GrandPré</td>\n",
       "      <td>4.57</td>\n",
       "      <td>0439785960</td>\n",
       "      <td>9780439785969</td>\n",
       "      <td>eng</td>\n",
       "      <td>652</td>\n",
       "      <td>2095690</td>\n",
       "      <td>27591</td>\n",
       "      <td>9/16/2006</td>\n",
       "      <td>Scholastic Inc.</td>\n",
       "    </tr>\n",
       "    <tr>\n",
       "      <th>1</th>\n",
       "      <td>2</td>\n",
       "      <td>Harry Potter and the Order of the Phoenix (Har...</td>\n",
       "      <td>J.K. Rowling/Mary GrandPré</td>\n",
       "      <td>4.49</td>\n",
       "      <td>0439358078</td>\n",
       "      <td>9780439358071</td>\n",
       "      <td>eng</td>\n",
       "      <td>870</td>\n",
       "      <td>2153167</td>\n",
       "      <td>29221</td>\n",
       "      <td>9/1/2004</td>\n",
       "      <td>Scholastic Inc.</td>\n",
       "    </tr>\n",
       "    <tr>\n",
       "      <th>2</th>\n",
       "      <td>4</td>\n",
       "      <td>Harry Potter and the Chamber of Secrets (Harry...</td>\n",
       "      <td>J.K. Rowling</td>\n",
       "      <td>4.42</td>\n",
       "      <td>0439554896</td>\n",
       "      <td>9780439554893</td>\n",
       "      <td>eng</td>\n",
       "      <td>352</td>\n",
       "      <td>6333</td>\n",
       "      <td>244</td>\n",
       "      <td>11/1/2003</td>\n",
       "      <td>Scholastic</td>\n",
       "    </tr>\n",
       "    <tr>\n",
       "      <th>3</th>\n",
       "      <td>5</td>\n",
       "      <td>Harry Potter and the Prisoner of Azkaban (Harr...</td>\n",
       "      <td>J.K. Rowling/Mary GrandPré</td>\n",
       "      <td>4.56</td>\n",
       "      <td>043965548X</td>\n",
       "      <td>9780439655484</td>\n",
       "      <td>eng</td>\n",
       "      <td>435</td>\n",
       "      <td>2339585</td>\n",
       "      <td>36325</td>\n",
       "      <td>5/1/2004</td>\n",
       "      <td>Scholastic Inc.</td>\n",
       "    </tr>\n",
       "    <tr>\n",
       "      <th>4</th>\n",
       "      <td>8</td>\n",
       "      <td>Harry Potter Boxed Set  Books 1-5 (Harry Potte...</td>\n",
       "      <td>J.K. Rowling/Mary GrandPré</td>\n",
       "      <td>4.78</td>\n",
       "      <td>0439682584</td>\n",
       "      <td>9780439682589</td>\n",
       "      <td>eng</td>\n",
       "      <td>2690</td>\n",
       "      <td>41428</td>\n",
       "      <td>164</td>\n",
       "      <td>9/13/2004</td>\n",
       "      <td>Scholastic</td>\n",
       "    </tr>\n",
       "  </tbody>\n",
       "</table>\n",
       "</div>"
      ],
      "text/plain": [
       "   bookID                                              title  \\\n",
       "0       1  Harry Potter and the Half-Blood Prince (Harry ...   \n",
       "1       2  Harry Potter and the Order of the Phoenix (Har...   \n",
       "2       4  Harry Potter and the Chamber of Secrets (Harry...   \n",
       "3       5  Harry Potter and the Prisoner of Azkaban (Harr...   \n",
       "4       8  Harry Potter Boxed Set  Books 1-5 (Harry Potte...   \n",
       "\n",
       "                      authors  average_rating        isbn         isbn13  \\\n",
       "0  J.K. Rowling/Mary GrandPré            4.57  0439785960  9780439785969   \n",
       "1  J.K. Rowling/Mary GrandPré            4.49  0439358078  9780439358071   \n",
       "2                J.K. Rowling            4.42  0439554896  9780439554893   \n",
       "3  J.K. Rowling/Mary GrandPré            4.56  043965548X  9780439655484   \n",
       "4  J.K. Rowling/Mary GrandPré            4.78  0439682584  9780439682589   \n",
       "\n",
       "  language_code    num_pages  ratings_count  text_reviews_count  \\\n",
       "0           eng          652        2095690               27591   \n",
       "1           eng          870        2153167               29221   \n",
       "2           eng          352           6333                 244   \n",
       "3           eng          435        2339585               36325   \n",
       "4           eng         2690          41428                 164   \n",
       "\n",
       "  publication_date        publisher  \n",
       "0        9/16/2006  Scholastic Inc.  \n",
       "1         9/1/2004  Scholastic Inc.  \n",
       "2        11/1/2003       Scholastic  \n",
       "3         5/1/2004  Scholastic Inc.  \n",
       "4        9/13/2004       Scholastic  "
      ]
     },
     "execution_count": 8,
     "metadata": {},
     "output_type": "execute_result"
    }
   ],
   "source": [
    "data.head()"
   ]
  },
  {
   "cell_type": "code",
   "execution_count": 9,
   "id": "5546d5ed",
   "metadata": {},
   "outputs": [
    {
     "data": {
      "text/plain": [
       "(11123, 12)"
      ]
     },
     "execution_count": 9,
     "metadata": {},
     "output_type": "execute_result"
    }
   ],
   "source": [
    "data.shape"
   ]
  },
  {
   "cell_type": "code",
   "execution_count": 10,
   "id": "1e9df05a",
   "metadata": {},
   "outputs": [
    {
     "data": {
      "text/plain": [
       "Index(['bookID', 'title', 'authors', 'average_rating', 'isbn', 'isbn13',\n",
       "       'language_code', '  num_pages', 'ratings_count', 'text_reviews_count',\n",
       "       'publication_date', 'publisher'],\n",
       "      dtype='object')"
      ]
     },
     "execution_count": 10,
     "metadata": {},
     "output_type": "execute_result"
    }
   ],
   "source": [
    "data.columns"
   ]
  },
  {
   "cell_type": "code",
   "execution_count": 11,
   "id": "77c4dfe6",
   "metadata": {},
   "outputs": [],
   "source": [
    "# remove spaces from the column name\n",
    "data.columns = data.columns.str.strip()"
   ]
  },
  {
   "cell_type": "code",
   "execution_count": 12,
   "id": "dbbdc4b1",
   "metadata": {},
   "outputs": [
    {
     "data": {
      "text/plain": [
       "Index(['bookID', 'title', 'authors', 'average_rating', 'isbn', 'isbn13',\n",
       "       'language_code', 'num_pages', 'ratings_count', 'text_reviews_count',\n",
       "       'publication_date', 'publisher'],\n",
       "      dtype='object')"
      ]
     },
     "execution_count": 12,
     "metadata": {},
     "output_type": "execute_result"
    }
   ],
   "source": [
    "data.columns"
   ]
  },
  {
   "cell_type": "code",
   "execution_count": 13,
   "id": "e333e6b6",
   "metadata": {},
   "outputs": [
    {
     "name": "stdout",
     "output_type": "stream",
     "text": [
      "<class 'pandas.core.frame.DataFrame'>\n",
      "RangeIndex: 11123 entries, 0 to 11122\n",
      "Data columns (total 12 columns):\n",
      " #   Column              Non-Null Count  Dtype  \n",
      "---  ------              --------------  -----  \n",
      " 0   bookID              11123 non-null  int64  \n",
      " 1   title               11123 non-null  object \n",
      " 2   authors             11123 non-null  object \n",
      " 3   average_rating      11123 non-null  float64\n",
      " 4   isbn                11123 non-null  object \n",
      " 5   isbn13              11123 non-null  int64  \n",
      " 6   language_code       11123 non-null  object \n",
      " 7   num_pages           11123 non-null  int64  \n",
      " 8   ratings_count       11123 non-null  int64  \n",
      " 9   text_reviews_count  11123 non-null  int64  \n",
      " 10  publication_date    11123 non-null  object \n",
      " 11  publisher           11123 non-null  object \n",
      "dtypes: float64(1), int64(5), object(6)\n",
      "memory usage: 1.0+ MB\n"
     ]
    }
   ],
   "source": [
    "data.info()"
   ]
  },
  {
   "cell_type": "code",
   "execution_count": 14,
   "id": "a4da8851",
   "metadata": {},
   "outputs": [
    {
     "data": {
      "text/html": [
       "<div>\n",
       "<style scoped>\n",
       "    .dataframe tbody tr th:only-of-type {\n",
       "        vertical-align: middle;\n",
       "    }\n",
       "\n",
       "    .dataframe tbody tr th {\n",
       "        vertical-align: top;\n",
       "    }\n",
       "\n",
       "    .dataframe thead th {\n",
       "        text-align: right;\n",
       "    }\n",
       "</style>\n",
       "<table border=\"1\" class=\"dataframe\">\n",
       "  <thead>\n",
       "    <tr style=\"text-align: right;\">\n",
       "      <th></th>\n",
       "      <th>bookID</th>\n",
       "      <th>average_rating</th>\n",
       "      <th>isbn13</th>\n",
       "      <th>num_pages</th>\n",
       "      <th>ratings_count</th>\n",
       "      <th>text_reviews_count</th>\n",
       "    </tr>\n",
       "  </thead>\n",
       "  <tbody>\n",
       "    <tr>\n",
       "      <th>count</th>\n",
       "      <td>11123.000000</td>\n",
       "      <td>11123.000000</td>\n",
       "      <td>1.112300e+04</td>\n",
       "      <td>11123.000000</td>\n",
       "      <td>1.112300e+04</td>\n",
       "      <td>11123.000000</td>\n",
       "    </tr>\n",
       "    <tr>\n",
       "      <th>mean</th>\n",
       "      <td>21310.856963</td>\n",
       "      <td>3.934075</td>\n",
       "      <td>9.759880e+12</td>\n",
       "      <td>336.405556</td>\n",
       "      <td>1.794285e+04</td>\n",
       "      <td>542.048099</td>\n",
       "    </tr>\n",
       "    <tr>\n",
       "      <th>std</th>\n",
       "      <td>13094.727252</td>\n",
       "      <td>0.350485</td>\n",
       "      <td>4.429758e+11</td>\n",
       "      <td>241.152626</td>\n",
       "      <td>1.124992e+05</td>\n",
       "      <td>2576.619589</td>\n",
       "    </tr>\n",
       "    <tr>\n",
       "      <th>min</th>\n",
       "      <td>1.000000</td>\n",
       "      <td>0.000000</td>\n",
       "      <td>8.987060e+09</td>\n",
       "      <td>0.000000</td>\n",
       "      <td>0.000000e+00</td>\n",
       "      <td>0.000000</td>\n",
       "    </tr>\n",
       "    <tr>\n",
       "      <th>25%</th>\n",
       "      <td>10277.500000</td>\n",
       "      <td>3.770000</td>\n",
       "      <td>9.780345e+12</td>\n",
       "      <td>192.000000</td>\n",
       "      <td>1.040000e+02</td>\n",
       "      <td>9.000000</td>\n",
       "    </tr>\n",
       "    <tr>\n",
       "      <th>50%</th>\n",
       "      <td>20287.000000</td>\n",
       "      <td>3.960000</td>\n",
       "      <td>9.780582e+12</td>\n",
       "      <td>299.000000</td>\n",
       "      <td>7.450000e+02</td>\n",
       "      <td>47.000000</td>\n",
       "    </tr>\n",
       "    <tr>\n",
       "      <th>75%</th>\n",
       "      <td>32104.500000</td>\n",
       "      <td>4.140000</td>\n",
       "      <td>9.780872e+12</td>\n",
       "      <td>416.000000</td>\n",
       "      <td>5.000500e+03</td>\n",
       "      <td>238.000000</td>\n",
       "    </tr>\n",
       "    <tr>\n",
       "      <th>max</th>\n",
       "      <td>45641.000000</td>\n",
       "      <td>5.000000</td>\n",
       "      <td>9.790008e+12</td>\n",
       "      <td>6576.000000</td>\n",
       "      <td>4.597666e+06</td>\n",
       "      <td>94265.000000</td>\n",
       "    </tr>\n",
       "  </tbody>\n",
       "</table>\n",
       "</div>"
      ],
      "text/plain": [
       "             bookID  average_rating        isbn13     num_pages  \\\n",
       "count  11123.000000    11123.000000  1.112300e+04  11123.000000   \n",
       "mean   21310.856963        3.934075  9.759880e+12    336.405556   \n",
       "std    13094.727252        0.350485  4.429758e+11    241.152626   \n",
       "min        1.000000        0.000000  8.987060e+09      0.000000   \n",
       "25%    10277.500000        3.770000  9.780345e+12    192.000000   \n",
       "50%    20287.000000        3.960000  9.780582e+12    299.000000   \n",
       "75%    32104.500000        4.140000  9.780872e+12    416.000000   \n",
       "max    45641.000000        5.000000  9.790008e+12   6576.000000   \n",
       "\n",
       "       ratings_count  text_reviews_count  \n",
       "count   1.112300e+04        11123.000000  \n",
       "mean    1.794285e+04          542.048099  \n",
       "std     1.124992e+05         2576.619589  \n",
       "min     0.000000e+00            0.000000  \n",
       "25%     1.040000e+02            9.000000  \n",
       "50%     7.450000e+02           47.000000  \n",
       "75%     5.000500e+03          238.000000  \n",
       "max     4.597666e+06        94265.000000  "
      ]
     },
     "execution_count": 14,
     "metadata": {},
     "output_type": "execute_result"
    }
   ],
   "source": [
    "# getting summary of the data\n",
    "data.describe()"
   ]
  },
  {
   "cell_type": "code",
   "execution_count": 16,
   "id": "9a69e00a",
   "metadata": {},
   "outputs": [
    {
     "data": {
      "text/html": [
       "<div>\n",
       "<style scoped>\n",
       "    .dataframe tbody tr th:only-of-type {\n",
       "        vertical-align: middle;\n",
       "    }\n",
       "\n",
       "    .dataframe tbody tr th {\n",
       "        vertical-align: top;\n",
       "    }\n",
       "\n",
       "    .dataframe thead th {\n",
       "        text-align: right;\n",
       "    }\n",
       "</style>\n",
       "<table border=\"1\" class=\"dataframe\">\n",
       "  <thead>\n",
       "    <tr style=\"text-align: right;\">\n",
       "      <th></th>\n",
       "      <th>title</th>\n",
       "      <th>authors</th>\n",
       "      <th>isbn</th>\n",
       "      <th>language_code</th>\n",
       "      <th>publication_date</th>\n",
       "      <th>publisher</th>\n",
       "    </tr>\n",
       "  </thead>\n",
       "  <tbody>\n",
       "    <tr>\n",
       "      <th>count</th>\n",
       "      <td>11123</td>\n",
       "      <td>11123</td>\n",
       "      <td>11123</td>\n",
       "      <td>11123</td>\n",
       "      <td>11123</td>\n",
       "      <td>11123</td>\n",
       "    </tr>\n",
       "    <tr>\n",
       "      <th>unique</th>\n",
       "      <td>10348</td>\n",
       "      <td>6639</td>\n",
       "      <td>11123</td>\n",
       "      <td>27</td>\n",
       "      <td>3679</td>\n",
       "      <td>2290</td>\n",
       "    </tr>\n",
       "    <tr>\n",
       "      <th>top</th>\n",
       "      <td>The Iliad</td>\n",
       "      <td>Stephen King</td>\n",
       "      <td>0552992097</td>\n",
       "      <td>eng</td>\n",
       "      <td>10/1/2005</td>\n",
       "      <td>Vintage</td>\n",
       "    </tr>\n",
       "    <tr>\n",
       "      <th>freq</th>\n",
       "      <td>9</td>\n",
       "      <td>40</td>\n",
       "      <td>1</td>\n",
       "      <td>8908</td>\n",
       "      <td>56</td>\n",
       "      <td>318</td>\n",
       "    </tr>\n",
       "  </tbody>\n",
       "</table>\n",
       "</div>"
      ],
      "text/plain": [
       "            title       authors        isbn language_code publication_date  \\\n",
       "count       11123         11123       11123         11123            11123   \n",
       "unique      10348          6639       11123            27             3679   \n",
       "top     The Iliad  Stephen King  0552992097           eng        10/1/2005   \n",
       "freq            9            40           1          8908               56   \n",
       "\n",
       "       publisher  \n",
       "count      11123  \n",
       "unique      2290  \n",
       "top      Vintage  \n",
       "freq         318  "
      ]
     },
     "execution_count": 16,
     "metadata": {},
     "output_type": "execute_result"
    }
   ],
   "source": [
    "# getting summary of object data type\n",
    "data.describe(include=\"object\")"
   ]
  },
  {
   "cell_type": "code",
   "execution_count": 17,
   "id": "a2a47e85",
   "metadata": {},
   "outputs": [
    {
     "data": {
      "text/plain": [
       "bookID                0\n",
       "title                 0\n",
       "authors               0\n",
       "average_rating        0\n",
       "isbn                  0\n",
       "isbn13                0\n",
       "language_code         0\n",
       "num_pages             0\n",
       "ratings_count         0\n",
       "text_reviews_count    0\n",
       "publication_date      0\n",
       "publisher             0\n",
       "dtype: int64"
      ]
     },
     "execution_count": 17,
     "metadata": {},
     "output_type": "execute_result"
    }
   ],
   "source": [
    "data.isnull().sum()"
   ]
  },
  {
   "cell_type": "code",
   "execution_count": 19,
   "id": "e12ab8ee",
   "metadata": {},
   "outputs": [
    {
     "data": {
      "text/plain": [
       "0"
      ]
     },
     "execution_count": 19,
     "metadata": {},
     "output_type": "execute_result"
    }
   ],
   "source": [
    "data.duplicated().sum()"
   ]
  },
  {
   "cell_type": "code",
   "execution_count": 21,
   "id": "dc1f7d26",
   "metadata": {},
   "outputs": [
    {
     "data": {
      "text/plain": [
       "bookID                  int64\n",
       "title                  object\n",
       "authors                object\n",
       "average_rating        float64\n",
       "isbn                   object\n",
       "isbn13                  int64\n",
       "language_code          object\n",
       "num_pages               int64\n",
       "ratings_count           int64\n",
       "text_reviews_count      int64\n",
       "publication_date       object\n",
       "publisher              object\n",
       "dtype: object"
      ]
     },
     "execution_count": 21,
     "metadata": {},
     "output_type": "execute_result"
    }
   ],
   "source": [
    "data.dtypes"
   ]
  },
  {
   "cell_type": "markdown",
   "id": "e0bc5256",
   "metadata": {},
   "source": [
    "### Feature Engineering"
   ]
  },
  {
   "cell_type": "markdown",
   "id": "531bc8bd",
   "metadata": {},
   "source": [
    "- Extract important features\n",
    "- reducing size of the features\n",
    "- creating new features from the existing ones"
   ]
  },
  {
   "cell_type": "code",
   "execution_count": 22,
   "id": "c7bb7c5b",
   "metadata": {},
   "outputs": [
    {
     "data": {
      "text/plain": [
       "Index(['bookID', 'title', 'authors', 'average_rating', 'isbn', 'isbn13',\n",
       "       'language_code', 'num_pages', 'ratings_count', 'text_reviews_count',\n",
       "       'publication_date', 'publisher'],\n",
       "      dtype='object')"
      ]
     },
     "execution_count": 22,
     "metadata": {},
     "output_type": "execute_result"
    }
   ],
   "source": [
    "data.columns"
   ]
  },
  {
   "cell_type": "code",
   "execution_count": 27,
   "id": "8fc41c79",
   "metadata": {},
   "outputs": [
    {
     "data": {
      "text/plain": [
       "11123"
      ]
     },
     "execution_count": 27,
     "metadata": {},
     "output_type": "execute_result"
    }
   ],
   "source": [
    "data[\"isbn\"].nunique()"
   ]
  },
  {
   "cell_type": "code",
   "execution_count": 28,
   "id": "4f82537a",
   "metadata": {},
   "outputs": [
    {
     "data": {
      "text/plain": [
       "11123"
      ]
     },
     "execution_count": 28,
     "metadata": {},
     "output_type": "execute_result"
    }
   ],
   "source": [
    "data[\"isbn13\"].nunique()"
   ]
  },
  {
   "cell_type": "code",
   "execution_count": 29,
   "id": "cdbdd229",
   "metadata": {},
   "outputs": [],
   "source": [
    "# reducing the size of the features\n",
    "# droping the unnecessary columns\n",
    "data.drop(['bookID','isbn', 'isbn13'], axis=1 , inplace=True)"
   ]
  },
  {
   "cell_type": "code",
   "execution_count": 30,
   "id": "ec5cb975",
   "metadata": {},
   "outputs": [
    {
     "data": {
      "text/html": [
       "<div>\n",
       "<style scoped>\n",
       "    .dataframe tbody tr th:only-of-type {\n",
       "        vertical-align: middle;\n",
       "    }\n",
       "\n",
       "    .dataframe tbody tr th {\n",
       "        vertical-align: top;\n",
       "    }\n",
       "\n",
       "    .dataframe thead th {\n",
       "        text-align: right;\n",
       "    }\n",
       "</style>\n",
       "<table border=\"1\" class=\"dataframe\">\n",
       "  <thead>\n",
       "    <tr style=\"text-align: right;\">\n",
       "      <th></th>\n",
       "      <th>title</th>\n",
       "      <th>authors</th>\n",
       "      <th>average_rating</th>\n",
       "      <th>language_code</th>\n",
       "      <th>num_pages</th>\n",
       "      <th>ratings_count</th>\n",
       "      <th>text_reviews_count</th>\n",
       "      <th>publication_date</th>\n",
       "      <th>publisher</th>\n",
       "    </tr>\n",
       "  </thead>\n",
       "  <tbody>\n",
       "    <tr>\n",
       "      <th>0</th>\n",
       "      <td>Harry Potter and the Half-Blood Prince (Harry ...</td>\n",
       "      <td>J.K. Rowling/Mary GrandPré</td>\n",
       "      <td>4.57</td>\n",
       "      <td>eng</td>\n",
       "      <td>652</td>\n",
       "      <td>2095690</td>\n",
       "      <td>27591</td>\n",
       "      <td>9/16/2006</td>\n",
       "      <td>Scholastic Inc.</td>\n",
       "    </tr>\n",
       "    <tr>\n",
       "      <th>1</th>\n",
       "      <td>Harry Potter and the Order of the Phoenix (Har...</td>\n",
       "      <td>J.K. Rowling/Mary GrandPré</td>\n",
       "      <td>4.49</td>\n",
       "      <td>eng</td>\n",
       "      <td>870</td>\n",
       "      <td>2153167</td>\n",
       "      <td>29221</td>\n",
       "      <td>9/1/2004</td>\n",
       "      <td>Scholastic Inc.</td>\n",
       "    </tr>\n",
       "    <tr>\n",
       "      <th>2</th>\n",
       "      <td>Harry Potter and the Chamber of Secrets (Harry...</td>\n",
       "      <td>J.K. Rowling</td>\n",
       "      <td>4.42</td>\n",
       "      <td>eng</td>\n",
       "      <td>352</td>\n",
       "      <td>6333</td>\n",
       "      <td>244</td>\n",
       "      <td>11/1/2003</td>\n",
       "      <td>Scholastic</td>\n",
       "    </tr>\n",
       "  </tbody>\n",
       "</table>\n",
       "</div>"
      ],
      "text/plain": [
       "                                               title  \\\n",
       "0  Harry Potter and the Half-Blood Prince (Harry ...   \n",
       "1  Harry Potter and the Order of the Phoenix (Har...   \n",
       "2  Harry Potter and the Chamber of Secrets (Harry...   \n",
       "\n",
       "                      authors  average_rating language_code  num_pages  \\\n",
       "0  J.K. Rowling/Mary GrandPré            4.57           eng        652   \n",
       "1  J.K. Rowling/Mary GrandPré            4.49           eng        870   \n",
       "2                J.K. Rowling            4.42           eng        352   \n",
       "\n",
       "   ratings_count  text_reviews_count publication_date        publisher  \n",
       "0        2095690               27591        9/16/2006  Scholastic Inc.  \n",
       "1        2153167               29221         9/1/2004  Scholastic Inc.  \n",
       "2           6333                 244        11/1/2003       Scholastic  "
      ]
     },
     "execution_count": 30,
     "metadata": {},
     "output_type": "execute_result"
    }
   ],
   "source": [
    "data.head(3)"
   ]
  },
  {
   "cell_type": "code",
   "execution_count": 31,
   "id": "25e4deac",
   "metadata": {},
   "outputs": [
    {
     "data": {
      "text/plain": [
       "0         9/16/2006\n",
       "1          9/1/2004\n",
       "2         11/1/2003\n",
       "3          5/1/2004\n",
       "4         9/13/2004\n",
       "            ...    \n",
       "11118    12/21/2004\n",
       "11119     12/1/1988\n",
       "11120      8/1/1993\n",
       "11121     2/27/2007\n",
       "11122     5/28/2006\n",
       "Name: publication_date, Length: 11123, dtype: object"
      ]
     },
     "execution_count": 31,
     "metadata": {},
     "output_type": "execute_result"
    }
   ],
   "source": [
    "data[\"publication_date\"]"
   ]
  },
  {
   "cell_type": "code",
   "execution_count": 35,
   "id": "91dd4a46",
   "metadata": {},
   "outputs": [],
   "source": [
    "data[\"year\"] = data[\"publication_date\"].str.split(\"/\")\n",
    "data[\"year\"] = data[\"year\"].apply(lambda x: x[2])"
   ]
  },
  {
   "cell_type": "code",
   "execution_count": 37,
   "id": "f937eb17",
   "metadata": {},
   "outputs": [
    {
     "data": {
      "text/html": [
       "<div>\n",
       "<style scoped>\n",
       "    .dataframe tbody tr th:only-of-type {\n",
       "        vertical-align: middle;\n",
       "    }\n",
       "\n",
       "    .dataframe tbody tr th {\n",
       "        vertical-align: top;\n",
       "    }\n",
       "\n",
       "    .dataframe thead th {\n",
       "        text-align: right;\n",
       "    }\n",
       "</style>\n",
       "<table border=\"1\" class=\"dataframe\">\n",
       "  <thead>\n",
       "    <tr style=\"text-align: right;\">\n",
       "      <th></th>\n",
       "      <th>title</th>\n",
       "      <th>authors</th>\n",
       "      <th>average_rating</th>\n",
       "      <th>language_code</th>\n",
       "      <th>num_pages</th>\n",
       "      <th>ratings_count</th>\n",
       "      <th>text_reviews_count</th>\n",
       "      <th>publication_date</th>\n",
       "      <th>publisher</th>\n",
       "      <th>year</th>\n",
       "    </tr>\n",
       "  </thead>\n",
       "  <tbody>\n",
       "    <tr>\n",
       "      <th>0</th>\n",
       "      <td>Harry Potter and the Half-Blood Prince (Harry ...</td>\n",
       "      <td>J.K. Rowling/Mary GrandPré</td>\n",
       "      <td>4.57</td>\n",
       "      <td>eng</td>\n",
       "      <td>652</td>\n",
       "      <td>2095690</td>\n",
       "      <td>27591</td>\n",
       "      <td>9/16/2006</td>\n",
       "      <td>Scholastic Inc.</td>\n",
       "      <td>2006</td>\n",
       "    </tr>\n",
       "    <tr>\n",
       "      <th>1</th>\n",
       "      <td>Harry Potter and the Order of the Phoenix (Har...</td>\n",
       "      <td>J.K. Rowling/Mary GrandPré</td>\n",
       "      <td>4.49</td>\n",
       "      <td>eng</td>\n",
       "      <td>870</td>\n",
       "      <td>2153167</td>\n",
       "      <td>29221</td>\n",
       "      <td>9/1/2004</td>\n",
       "      <td>Scholastic Inc.</td>\n",
       "      <td>2004</td>\n",
       "    </tr>\n",
       "  </tbody>\n",
       "</table>\n",
       "</div>"
      ],
      "text/plain": [
       "                                               title  \\\n",
       "0  Harry Potter and the Half-Blood Prince (Harry ...   \n",
       "1  Harry Potter and the Order of the Phoenix (Har...   \n",
       "\n",
       "                      authors  average_rating language_code  num_pages  \\\n",
       "0  J.K. Rowling/Mary GrandPré            4.57           eng        652   \n",
       "1  J.K. Rowling/Mary GrandPré            4.49           eng        870   \n",
       "\n",
       "   ratings_count  text_reviews_count publication_date        publisher  year  \n",
       "0        2095690               27591        9/16/2006  Scholastic Inc.  2006  \n",
       "1        2153167               29221         9/1/2004  Scholastic Inc.  2004  "
      ]
     },
     "execution_count": 37,
     "metadata": {},
     "output_type": "execute_result"
    }
   ],
   "source": [
    "data.head(2)"
   ]
  },
  {
   "cell_type": "code",
   "execution_count": 38,
   "id": "5120d7b3",
   "metadata": {},
   "outputs": [
    {
     "data": {
      "text/plain": [
       "title                  object\n",
       "authors                object\n",
       "average_rating        float64\n",
       "language_code          object\n",
       "num_pages               int64\n",
       "ratings_count           int64\n",
       "text_reviews_count      int64\n",
       "publication_date       object\n",
       "publisher              object\n",
       "year                   object\n",
       "dtype: object"
      ]
     },
     "execution_count": 38,
     "metadata": {},
     "output_type": "execute_result"
    }
   ],
   "source": [
    "data.dtypes"
   ]
  },
  {
   "cell_type": "code",
   "execution_count": 40,
   "id": "69a71583",
   "metadata": {},
   "outputs": [],
   "source": [
    "data[\"year\"] = data[\"year\"].astype(int)"
   ]
  },
  {
   "cell_type": "code",
   "execution_count": 41,
   "id": "21418fa1",
   "metadata": {},
   "outputs": [
    {
     "data": {
      "text/plain": [
       "1900"
      ]
     },
     "execution_count": 41,
     "metadata": {},
     "output_type": "execute_result"
    }
   ],
   "source": [
    "data[\"year\"].min()"
   ]
  },
  {
   "cell_type": "code",
   "execution_count": 42,
   "id": "e4e3e8ff",
   "metadata": {},
   "outputs": [
    {
     "data": {
      "text/plain": [
       "2020"
      ]
     },
     "execution_count": 42,
     "metadata": {},
     "output_type": "execute_result"
    }
   ],
   "source": [
    "data[\"year\"].max()"
   ]
  },
  {
   "cell_type": "markdown",
   "id": "4fea1a02",
   "metadata": {},
   "source": [
    "### Explotary data Analysis"
   ]
  },
  {
   "cell_type": "code",
   "execution_count": 43,
   "id": "86c9159f",
   "metadata": {},
   "outputs": [
    {
     "data": {
      "text/html": [
       "<div>\n",
       "<style scoped>\n",
       "    .dataframe tbody tr th:only-of-type {\n",
       "        vertical-align: middle;\n",
       "    }\n",
       "\n",
       "    .dataframe tbody tr th {\n",
       "        vertical-align: top;\n",
       "    }\n",
       "\n",
       "    .dataframe thead th {\n",
       "        text-align: right;\n",
       "    }\n",
       "</style>\n",
       "<table border=\"1\" class=\"dataframe\">\n",
       "  <thead>\n",
       "    <tr style=\"text-align: right;\">\n",
       "      <th></th>\n",
       "      <th>title</th>\n",
       "      <th>authors</th>\n",
       "      <th>average_rating</th>\n",
       "      <th>language_code</th>\n",
       "      <th>publisher</th>\n",
       "    </tr>\n",
       "  </thead>\n",
       "  <tbody>\n",
       "    <tr>\n",
       "      <th>9664</th>\n",
       "      <td>A Quick Bite (Argeneau #1)</td>\n",
       "      <td>Lynsay Sands</td>\n",
       "      <td>3.91</td>\n",
       "      <td>eng</td>\n",
       "      <td>Avon</td>\n",
       "    </tr>\n",
       "  </tbody>\n",
       "</table>\n",
       "</div>"
      ],
      "text/plain": [
       "                           title       authors  average_rating language_code  \\\n",
       "9664  A Quick Bite (Argeneau #1)  Lynsay Sands            3.91           eng   \n",
       "\n",
       "     publisher  \n",
       "9664      Avon  "
      ]
     },
     "execution_count": 43,
     "metadata": {},
     "output_type": "execute_result"
    }
   ],
   "source": [
    "data[data[\"year\"] == 2020][[\"title\", \"authors\" , \"average_rating\", \"language_code\", \"publisher\"]]"
   ]
  },
  {
   "cell_type": "code",
   "execution_count": 47,
   "id": "e6b141c1",
   "metadata": {},
   "outputs": [
    {
     "data": {
      "text/plain": [
       "year\n",
       "2006    1700\n",
       "2005    1260\n",
       "2004    1069\n",
       "2003     931\n",
       "2002     798\n",
       "2001     656\n",
       "2000     534\n",
       "2007     518\n",
       "1999     450\n",
       "1998     396\n",
       "1997     290\n",
       "1996     250\n",
       "1995     249\n",
       "1994     220\n",
       "1992     183\n",
       "1993     165\n",
       "1991     151\n",
       "1989     118\n",
       "1990     117\n",
       "1987      88\n",
       "Name: title, dtype: int64"
      ]
     },
     "execution_count": 47,
     "metadata": {},
     "output_type": "execute_result"
    }
   ],
   "source": [
    "data.groupby([\"year\"])[\"title\"].agg(\"count\").sort_values(ascending=False).head(20)"
   ]
  },
  {
   "cell_type": "code",
   "execution_count": 67,
   "id": "1568c549",
   "metadata": {},
   "outputs": [
    {
     "data": {
      "text/plain": [
       "Text(0.5, 1.0, 'Top 10 Author with maximum books published')"
      ]
     },
     "execution_count": 67,
     "metadata": {},
     "output_type": "execute_result"
    },
    {
     "data": {
      "image/png": "[encoded data removed]",
      "text/plain": [
       "<Figure size 2000x1000 with 1 Axes>"
      ]
     },
     "metadata": {},
     "output_type": "display_data"
    }
   ],
   "source": [
    "plt.figure(figsize=(20,10))\n",
    "sns.countplot(data=data , x=\"authors\", order=data[\"authors\"].value_counts().iloc[:10].index)\n",
    "plt.title(\"Top 10 Author with maximum books published\")"
   ]
  },
  {
   "cell_type": "code",
   "execution_count": 68,
   "id": "6812a15f",
   "metadata": {},
   "outputs": [
    {
     "data": {
      "text/plain": [
       "eng      8908\n",
       "en-US    1408\n",
       "spa       218\n",
       "en-GB     214\n",
       "fre       144\n",
       "ger        99\n",
       "jpn        46\n",
       "mul        19\n",
       "zho        14\n",
       "grc        11\n",
       "por        10\n",
       "en-CA       7\n",
       "ita         5\n",
       "lat         3\n",
       "enm         3\n",
       "rus         2\n",
       "swe         2\n",
       "ale         1\n",
       "ara         1\n",
       "msa         1\n",
       "srp         1\n",
       "gla         1\n",
       "tur         1\n",
       "wel         1\n",
       "glg         1\n",
       "nl          1\n",
       "nor         1\n",
       "Name: language_code, dtype: int64"
      ]
     },
     "execution_count": 68,
     "metadata": {},
     "output_type": "execute_result"
    }
   ],
   "source": [
    "data[\"language_code\"].value_counts()"
   ]
  },
  {
   "cell_type": "code",
   "execution_count": 75,
   "id": "b5bf952f",
   "metadata": {},
   "outputs": [
    {
     "data": {
      "text/html": [
       "<style  type=\"text/css\" >\n",
       "#T_a4db4_row0_col0,#T_a4db4_row14_col0{\n",
       "            background-color:  #fe9000;\n",
       "            color:  #000000;\n",
       "        }#T_a4db4_row0_col1,#T_a4db4_row1_col1,#T_a4db4_row13_col2,#T_a4db4_row14_col1,#T_a4db4_row18_col1,#T_a4db4_row19_col1{\n",
       "            background-color:  #e4ff78;\n",
       "            color:  #000000;\n",
       "        }#T_a4db4_row0_col2{\n",
       "            background-color:  #e7fd71;\n",
       "            color:  #000000;\n",
       "        }#T_a4db4_row1_col0{\n",
       "            background-color:  #ffa500;\n",
       "            color:  #000000;\n",
       "        }#T_a4db4_row1_col2,#T_a4db4_row14_col2,#T_a4db4_row16_col1{\n",
       "            background-color:  #e6fe74;\n",
       "            color:  #000000;\n",
       "        }#T_a4db4_row2_col0{\n",
       "            background-color:  #fe9800;\n",
       "            color:  #000000;\n",
       "        }#T_a4db4_row2_col1{\n",
       "            background-color:  #f8ee32;\n",
       "            color:  #000000;\n",
       "        }#T_a4db4_row2_col2{\n",
       "            background-color:  #ffbd00;\n",
       "            color:  #000000;\n",
       "        }#T_a4db4_row3_col0,#T_a4db4_row4_col0,#T_a4db4_row5_col0,#T_a4db4_row19_col0,#T_a4db4_row21_col0{\n",
       "            background-color:  #ff9b00;\n",
       "            color:  #000000;\n",
       "        }#T_a4db4_row3_col1{\n",
       "            background-color:  #f0f54e;\n",
       "            color:  #000000;\n",
       "        }#T_a4db4_row3_col2{\n",
       "            background-color:  #f5f03c;\n",
       "            color:  #000000;\n",
       "        }#T_a4db4_row4_col1{\n",
       "            background-color:  #f7ef38;\n",
       "            color:  #000000;\n",
       "        }#T_a4db4_row4_col2{\n",
       "            background-color:  #ffe81b;\n",
       "            color:  #000000;\n",
       "        }#T_a4db4_row5_col1,#T_a4db4_row5_col2,#T_a4db4_row25_col0{\n",
       "            background-color:  #fc7f00;\n",
       "            color:  #000000;\n",
       "        }#T_a4db4_row6_col0{\n",
       "            background-color:  #ff9d00;\n",
       "            color:  #000000;\n",
       "        }#T_a4db4_row6_col1,#T_a4db4_row7_col1,#T_a4db4_row12_col1{\n",
       "            background-color:  #f4f141;\n",
       "            color:  #000000;\n",
       "        }#T_a4db4_row6_col2{\n",
       "            background-color:  #f2f348;\n",
       "            color:  #000000;\n",
       "        }#T_a4db4_row7_col0,#T_a4db4_row8_col0{\n",
       "            background-color:  #fe9a00;\n",
       "            color:  #000000;\n",
       "        }#T_a4db4_row7_col2{\n",
       "            background-color:  #eff654;\n",
       "            color:  #000000;\n",
       "        }#T_a4db4_row8_col1,#T_a4db4_row15_col2{\n",
       "            background-color:  #e5fe77;\n",
       "            color:  #000000;\n",
       "        }#T_a4db4_row8_col2,#T_a4db4_row17_col2,#T_a4db4_row18_col2{\n",
       "            background-color:  #e5fe75;\n",
       "            color:  #000000;\n",
       "        }#T_a4db4_row9_col0,#T_a4db4_row26_col0{\n",
       "            background-color:  #fd8d00;\n",
       "            color:  #000000;\n",
       "        }#T_a4db4_row9_col1,#T_a4db4_row9_col2,#T_a4db4_row10_col1,#T_a4db4_row10_col2,#T_a4db4_row11_col1,#T_a4db4_row11_col2,#T_a4db4_row13_col1,#T_a4db4_row15_col1,#T_a4db4_row17_col1,#T_a4db4_row22_col0,#T_a4db4_row22_col1,#T_a4db4_row22_col2,#T_a4db4_row25_col1,#T_a4db4_row25_col2,#T_a4db4_row26_col1,#T_a4db4_row26_col2{\n",
       "            background-color:  #e4ff7a;\n",
       "            color:  #000000;\n",
       "        }#T_a4db4_row10_col0{\n",
       "            background-color:  #ffa900;\n",
       "            color:  #000000;\n",
       "        }#T_a4db4_row11_col0{\n",
       "            background-color:  #ffa100;\n",
       "            color:  #000000;\n",
       "        }#T_a4db4_row12_col0{\n",
       "            background-color:  #fe9700;\n",
       "            color:  #000000;\n",
       "        }#T_a4db4_row12_col2{\n",
       "            background-color:  #edf759;\n",
       "            color:  #000000;\n",
       "        }#T_a4db4_row13_col0{\n",
       "            background-color:  #fe9200;\n",
       "            color:  #000000;\n",
       "        }#T_a4db4_row15_col0,#T_a4db4_row16_col0{\n",
       "            background-color:  #fe9600;\n",
       "            color:  #000000;\n",
       "        }#T_a4db4_row16_col2{\n",
       "            background-color:  #e7fc6f;\n",
       "            color:  #000000;\n",
       "        }#T_a4db4_row17_col0{\n",
       "            background-color:  #fe9400;\n",
       "            color:  #000000;\n",
       "        }#T_a4db4_row18_col0{\n",
       "            background-color:  #ffa300;\n",
       "            color:  #000000;\n",
       "        }#T_a4db4_row19_col2{\n",
       "            background-color:  #e6fd72;\n",
       "            color:  #000000;\n",
       "        }#T_a4db4_row20_col0{\n",
       "            background-color:  #fe9300;\n",
       "            color:  #000000;\n",
       "        }#T_a4db4_row20_col1{\n",
       "            background-color:  #faec2a;\n",
       "            color:  #000000;\n",
       "        }#T_a4db4_row20_col2{\n",
       "            background-color:  #f5f13f;\n",
       "            color:  #000000;\n",
       "        }#T_a4db4_row21_col1{\n",
       "            background-color:  #fbeb27;\n",
       "            color:  #000000;\n",
       "        }#T_a4db4_row21_col2{\n",
       "            background-color:  #f3f244;\n",
       "            color:  #000000;\n",
       "        }#T_a4db4_row23_col0{\n",
       "            background-color:  #ffa700;\n",
       "            color:  #000000;\n",
       "        }#T_a4db4_row23_col1{\n",
       "            background-color:  #f1f44b;\n",
       "            color:  #000000;\n",
       "        }#T_a4db4_row23_col2{\n",
       "            background-color:  #fee91d;\n",
       "            color:  #000000;\n",
       "        }#T_a4db4_row24_col0{\n",
       "            background-color:  #fd8e00;\n",
       "            color:  #000000;\n",
       "        }#T_a4db4_row24_col1{\n",
       "            background-color:  #e9fb69;\n",
       "            color:  #000000;\n",
       "        }#T_a4db4_row24_col2{\n",
       "            background-color:  #ebf962;\n",
       "            color:  #000000;\n",
       "        }</style><table id=\"T_a4db4_\" ><thead>    <tr>        <th class=\"blank level0\" ></th>        <th class=\"col_heading level0 col0\" >average_rating</th>        <th class=\"col_heading level0 col1\" >ratings_count</th>        <th class=\"col_heading level0 col2\" >text_reviews_count</th>    </tr>    <tr>        <th class=\"index_name level0\" >language_code</th>        <th class=\"blank\" ></th>        <th class=\"blank\" ></th>        <th class=\"blank\" ></th>    </tr></thead><tbody>\n",
       "                <tr>\n",
       "                        <th id=\"T_a4db4_level0_row0\" class=\"row_heading level0 row0\" >ale</th>\n",
       "                        <td id=\"T_a4db4_row0_col0\" class=\"data row0 col0\" >4.360000</td>\n",
       "                        <td id=\"T_a4db4_row0_col1\" class=\"data row0 col1\" >102.000000</td>\n",
       "                        <td id=\"T_a4db4_row0_col2\" class=\"data row0 col2\" >16.000000</td>\n",
       "            </tr>\n",
       "            <tr>\n",
       "                        <th id=\"T_a4db4_level0_row1\" class=\"row_heading level0 row1\" >ara</th>\n",
       "                        <td id=\"T_a4db4_row1_col0\" class=\"data row1 col0\" >3.550000</td>\n",
       "                        <td id=\"T_a4db4_row1_col1\" class=\"data row1 col1\" >122.000000</td>\n",
       "                        <td id=\"T_a4db4_row1_col2\" class=\"data row1 col2\" >12.000000</td>\n",
       "            </tr>\n",
       "            <tr>\n",
       "                        <th id=\"T_a4db4_level0_row2\" class=\"row_heading level0 row2\" >en-CA</th>\n",
       "                        <td id=\"T_a4db4_row2_col0\" class=\"data row2 col0\" >4.025714</td>\n",
       "                        <td id=\"T_a4db4_row2_col1\" class=\"data row2 col1\" >4086.714286</td>\n",
       "                        <td id=\"T_a4db4_row2_col2\" class=\"data row2 col2\" >324.428571</td>\n",
       "            </tr>\n",
       "            <tr>\n",
       "                        <th id=\"T_a4db4_level0_row3\" class=\"row_heading level0 row3\" >en-GB</th>\n",
       "                        <td id=\"T_a4db4_row3_col0\" class=\"data row3 col0\" >3.923411</td>\n",
       "                        <td id=\"T_a4db4_row3_col1\" class=\"data row3 col1\" >2463.691589</td>\n",
       "                        <td id=\"T_a4db4_row3_col2\" class=\"data row3 col2\" >104.060748</td>\n",
       "            </tr>\n",
       "            <tr>\n",
       "                        <th id=\"T_a4db4_level0_row4\" class=\"row_heading level0 row4\" >en-US</th>\n",
       "                        <td id=\"T_a4db4_row4_col0\" class=\"data row4 col0\" >3.914659</td>\n",
       "                        <td id=\"T_a4db4_row4_col1\" class=\"data row4 col1\" >3773.906960</td>\n",
       "                        <td id=\"T_a4db4_row4_col2\" class=\"data row4 col2\" >160.357244</td>\n",
       "            </tr>\n",
       "            <tr>\n",
       "                        <th id=\"T_a4db4_level0_row5\" class=\"row_heading level0 row5\" >eng</th>\n",
       "                        <td id=\"T_a4db4_row5_col0\" class=\"data row5 col0\" >3.934062</td>\n",
       "                        <td id=\"T_a4db4_row5_col1\" class=\"data row5 col1\" >21570.272564</td>\n",
       "                        <td id=\"T_a4db4_row5_col2\" class=\"data row5 col2\" >645.156601</td>\n",
       "            </tr>\n",
       "            <tr>\n",
       "                        <th id=\"T_a4db4_level0_row6\" class=\"row_heading level0 row6\" >enm</th>\n",
       "                        <td id=\"T_a4db4_row6_col0\" class=\"data row6 col0\" >3.873333</td>\n",
       "                        <td id=\"T_a4db4_row6_col1\" class=\"data row6 col1\" >3233.666667</td>\n",
       "                        <td id=\"T_a4db4_row6_col2\" class=\"data row6 col2\" >84.000000</td>\n",
       "            </tr>\n",
       "            <tr>\n",
       "                        <th id=\"T_a4db4_level0_row7\" class=\"row_heading level0 row7\" >fre</th>\n",
       "                        <td id=\"T_a4db4_row7_col0\" class=\"data row7 col0\" >3.971528</td>\n",
       "                        <td id=\"T_a4db4_row7_col1\" class=\"data row7 col1\" >3277.319444</td>\n",
       "                        <td id=\"T_a4db4_row7_col2\" class=\"data row7 col2\" >64.513889</td>\n",
       "            </tr>\n",
       "            <tr>\n",
       "                        <th id=\"T_a4db4_level0_row8\" class=\"row_heading level0 row8\" >ger</th>\n",
       "                        <td id=\"T_a4db4_row8_col0\" class=\"data row8 col0\" >3.950101</td>\n",
       "                        <td id=\"T_a4db4_row8_col1\" class=\"data row8 col1\" >234.727273</td>\n",
       "                        <td id=\"T_a4db4_row8_col2\" class=\"data row8 col2\" >8.232323</td>\n",
       "            </tr>\n",
       "            <tr>\n",
       "                        <th id=\"T_a4db4_level0_row9\" class=\"row_heading level0 row9\" >gla</th>\n",
       "                        <td id=\"T_a4db4_row9_col0\" class=\"data row9 col0\" >4.470000</td>\n",
       "                        <td id=\"T_a4db4_row9_col1\" class=\"data row9 col1\" >11.000000</td>\n",
       "                        <td id=\"T_a4db4_row9_col2\" class=\"data row9 col2\" >0.000000</td>\n",
       "            </tr>\n",
       "            <tr>\n",
       "                        <th id=\"T_a4db4_level0_row10\" class=\"row_heading level0 row10\" >glg</th>\n",
       "                        <td id=\"T_a4db4_row10_col0\" class=\"data row10 col0\" >3.360000</td>\n",
       "                        <td id=\"T_a4db4_row10_col1\" class=\"data row10 col1\" >36.000000</td>\n",
       "                        <td id=\"T_a4db4_row10_col2\" class=\"data row10 col2\" >2.000000</td>\n",
       "            </tr>\n",
       "            <tr>\n",
       "                        <th id=\"T_a4db4_level0_row11\" class=\"row_heading level0 row11\" >grc</th>\n",
       "                        <td id=\"T_a4db4_row11_col0\" class=\"data row11 col0\" >3.707273</td>\n",
       "                        <td id=\"T_a4db4_row11_col1\" class=\"data row11 col1\" >52.454545</td>\n",
       "                        <td id=\"T_a4db4_row11_col2\" class=\"data row11 col2\" >2.454545</td>\n",
       "            </tr>\n",
       "            <tr>\n",
       "                        <th id=\"T_a4db4_level0_row12\" class=\"row_heading level0 row12\" >ita</th>\n",
       "                        <td id=\"T_a4db4_row12_col0\" class=\"data row12 col0\" >4.078000</td>\n",
       "                        <td id=\"T_a4db4_row12_col1\" class=\"data row12 col1\" >3234.400000</td>\n",
       "                        <td id=\"T_a4db4_row12_col2\" class=\"data row12 col2\" >55.800000</td>\n",
       "            </tr>\n",
       "            <tr>\n",
       "                        <th id=\"T_a4db4_level0_row13\" class=\"row_heading level0 row13\" >jpn</th>\n",
       "                        <td id=\"T_a4db4_row13_col0\" class=\"data row13 col0\" >4.268696</td>\n",
       "                        <td id=\"T_a4db4_row13_col1\" class=\"data row13 col1\" >68.304348</td>\n",
       "                        <td id=\"T_a4db4_row13_col2\" class=\"data row13 col2\" >3.152174</td>\n",
       "            </tr>\n",
       "            <tr>\n",
       "                        <th id=\"T_a4db4_level0_row14\" class=\"row_heading level0 row14\" >lat</th>\n",
       "                        <td id=\"T_a4db4_row14_col0\" class=\"data row14 col0\" >4.353333</td>\n",
       "                        <td id=\"T_a4db4_row14_col1\" class=\"data row14 col1\" >114.666667</td>\n",
       "                        <td id=\"T_a4db4_row14_col2\" class=\"data row14 col2\" >12.333333</td>\n",
       "            </tr>\n",
       "            <tr>\n",
       "                        <th id=\"T_a4db4_level0_row15\" class=\"row_heading level0 row15\" >msa</th>\n",
       "                        <td id=\"T_a4db4_row15_col0\" class=\"data row15 col0\" >4.110000</td>\n",
       "                        <td id=\"T_a4db4_row15_col1\" class=\"data row15 col1\" >28.000000</td>\n",
       "                        <td id=\"T_a4db4_row15_col2\" class=\"data row15 col2\" >6.000000</td>\n",
       "            </tr>\n",
       "            <tr>\n",
       "                        <th id=\"T_a4db4_level0_row16\" class=\"row_heading level0 row16\" >mul</th>\n",
       "                        <td id=\"T_a4db4_row16_col0\" class=\"data row16 col0\" >4.126316</td>\n",
       "                        <td id=\"T_a4db4_row16_col1\" class=\"data row16 col1\" >386.631579</td>\n",
       "                        <td id=\"T_a4db4_row16_col2\" class=\"data row16 col2\" >19.263158</td>\n",
       "            </tr>\n",
       "            <tr>\n",
       "                        <th id=\"T_a4db4_level0_row17\" class=\"row_heading level0 row17\" >nl</th>\n",
       "                        <td id=\"T_a4db4_row17_col0\" class=\"data row17 col0\" >4.180000</td>\n",
       "                        <td id=\"T_a4db4_row17_col1\" class=\"data row17 col1\" >67.000000</td>\n",
       "                        <td id=\"T_a4db4_row17_col2\" class=\"data row17 col2\" >9.000000</td>\n",
       "            </tr>\n",
       "            <tr>\n",
       "                        <th id=\"T_a4db4_level0_row18\" class=\"row_heading level0 row18\" >nor</th>\n",
       "                        <td id=\"T_a4db4_row18_col0\" class=\"data row18 col0\" >3.600000</td>\n",
       "                        <td id=\"T_a4db4_row18_col1\" class=\"data row18 col1\" >86.000000</td>\n",
       "                        <td id=\"T_a4db4_row18_col2\" class=\"data row18 col2\" >8.000000</td>\n",
       "            </tr>\n",
       "            <tr>\n",
       "                        <th id=\"T_a4db4_level0_row19\" class=\"row_heading level0 row19\" >por</th>\n",
       "                        <td id=\"T_a4db4_row19_col0\" class=\"data row19 col0\" >3.945000</td>\n",
       "                        <td id=\"T_a4db4_row19_col1\" class=\"data row19 col1\" >165.100000</td>\n",
       "                        <td id=\"T_a4db4_row19_col2\" class=\"data row19 col2\" >13.500000</td>\n",
       "            </tr>\n",
       "            <tr>\n",
       "                        <th id=\"T_a4db4_level0_row20\" class=\"row_heading level0 row20\" >rus</th>\n",
       "                        <td id=\"T_a4db4_row20_col0\" class=\"data row20 col0\" >4.255000</td>\n",
       "                        <td id=\"T_a4db4_row20_col1\" class=\"data row20 col1\" >4477.000000</td>\n",
       "                        <td id=\"T_a4db4_row20_col2\" class=\"data row20 col2\" >98.500000</td>\n",
       "            </tr>\n",
       "            <tr>\n",
       "                        <th id=\"T_a4db4_level0_row21\" class=\"row_heading level0 row21\" >spa</th>\n",
       "                        <td id=\"T_a4db4_row21_col0\" class=\"data row21 col0\" >3.929312</td>\n",
       "                        <td id=\"T_a4db4_row21_col1\" class=\"data row21 col1\" >4636.114679</td>\n",
       "                        <td id=\"T_a4db4_row21_col2\" class=\"data row21 col2\" >91.123853</td>\n",
       "            </tr>\n",
       "            <tr>\n",
       "                        <th id=\"T_a4db4_level0_row22\" class=\"row_heading level0 row22\" >srp</th>\n",
       "                        <td id=\"T_a4db4_row22_col0\" class=\"data row22 col0\" >0.000000</td>\n",
       "                        <td id=\"T_a4db4_row22_col1\" class=\"data row22 col1\" >0.000000</td>\n",
       "                        <td id=\"T_a4db4_row22_col2\" class=\"data row22 col2\" >0.000000</td>\n",
       "            </tr>\n",
       "            <tr>\n",
       "                        <th id=\"T_a4db4_level0_row23\" class=\"row_heading level0 row23\" >swe</th>\n",
       "                        <td id=\"T_a4db4_row23_col0\" class=\"data row23 col0\" >3.455000</td>\n",
       "                        <td id=\"T_a4db4_row23_col1\" class=\"data row23 col1\" >2671.000000</td>\n",
       "                        <td id=\"T_a4db4_row23_col2\" class=\"data row23 col2\" >157.000000</td>\n",
       "            </tr>\n",
       "            <tr>\n",
       "                        <th id=\"T_a4db4_level0_row24\" class=\"row_heading level0 row24\" >tur</th>\n",
       "                        <td id=\"T_a4db4_row24_col0\" class=\"data row24 col0\" >4.420000</td>\n",
       "                        <td id=\"T_a4db4_row24_col1\" class=\"data row24 col1\" >1000.000000</td>\n",
       "                        <td id=\"T_a4db4_row24_col2\" class=\"data row24 col2\" >41.000000</td>\n",
       "            </tr>\n",
       "            <tr>\n",
       "                        <th id=\"T_a4db4_level0_row25\" class=\"row_heading level0 row25\" >wel</th>\n",
       "                        <td id=\"T_a4db4_row25_col0\" class=\"data row25 col0\" >5.000000</td>\n",
       "                        <td id=\"T_a4db4_row25_col1\" class=\"data row25 col1\" >1.000000</td>\n",
       "                        <td id=\"T_a4db4_row25_col2\" class=\"data row25 col2\" >0.000000</td>\n",
       "            </tr>\n",
       "            <tr>\n",
       "                        <th id=\"T_a4db4_level0_row26\" class=\"row_heading level0 row26\" >zho</th>\n",
       "                        <td id=\"T_a4db4_row26_col0\" class=\"data row26 col0\" >4.456429</td>\n",
       "                        <td id=\"T_a4db4_row26_col1\" class=\"data row26 col1\" >20.428571</td>\n",
       "                        <td id=\"T_a4db4_row26_col2\" class=\"data row26 col2\" >0.500000</td>\n",
       "            </tr>\n",
       "    </tbody></table>"
      ],
      "text/plain": [
       "<pandas.io.formats.style.Styler at 0x1dd2be7a340>"
      ]
     },
     "execution_count": 75,
     "metadata": {},
     "output_type": "execute_result"
    }
   ],
   "source": [
    "data.groupby([\"language_code\"])[[\"average_rating\", \n",
    "                                 \"ratings_count\", \n",
    "                                 \"text_reviews_count\"]].agg(\"mean\").style.background_gradient(cmap=\"Wistia\")"
   ]
  },
  {
   "cell_type": "code",
   "execution_count": 76,
   "id": "d929d83d",
   "metadata": {},
   "outputs": [],
   "source": [
    "book = data[\"title\"].value_counts()[:20]"
   ]
  },
  {
   "cell_type": "code",
   "execution_count": 77,
   "id": "02e55a23",
   "metadata": {},
   "outputs": [
    {
     "data": {
      "text/plain": [
       "The Iliad                        9\n",
       "The Brothers Karamazov           9\n",
       "The Odyssey                      8\n",
       "Anna Karenina                    8\n",
       "'Salem's Lot                     8\n",
       "Gulliver's Travels               8\n",
       "The Picture of Dorian Gray       7\n",
       "A Midsummer Night's Dream        7\n",
       "The Scarlet Letter               6\n",
       "Sense and Sensibility            6\n",
       "The Histories                    6\n",
       "Romeo and Juliet                 6\n",
       "Treasure Island                  6\n",
       "Collected Stories                6\n",
       "The Secret Garden                6\n",
       "The Great Gatsby                 6\n",
       "Jane Eyre                        6\n",
       "Macbeth                          6\n",
       "Robinson Crusoe                  6\n",
       "One Hundred Years of Solitude    5\n",
       "Name: title, dtype: int64"
      ]
     },
     "execution_count": 77,
     "metadata": {},
     "output_type": "execute_result"
    }
   ],
   "source": [
    "book"
   ]
  },
  {
   "cell_type": "code",
   "execution_count": 85,
   "id": "217901c7",
   "metadata": {},
   "outputs": [
    {
     "data": {
      "text/plain": [
       "(array([ 0,  1,  2,  3,  4,  5,  6,  7,  8,  9, 10, 11, 12, 13, 14, 15, 16,\n",
       "        17, 18, 19]),\n",
       " [Text(0, 0, 'The Iliad'),\n",
       "  Text(1, 0, 'The Brothers Karamazov'),\n",
       "  Text(2, 0, 'The Odyssey'),\n",
       "  Text(3, 0, 'Anna Karenina'),\n",
       "  Text(4, 0, \"'Salem's Lot\"),\n",
       "  Text(5, 0, \"Gulliver's Travels\"),\n",
       "  Text(6, 0, 'The Picture of Dorian Gray'),\n",
       "  Text(7, 0, \"A Midsummer Night's Dream\"),\n",
       "  Text(8, 0, 'The Scarlet Letter'),\n",
       "  Text(9, 0, 'Sense and Sensibility'),\n",
       "  Text(10, 0, 'The Histories'),\n",
       "  Text(11, 0, 'Romeo and Juliet'),\n",
       "  Text(12, 0, 'Treasure Island'),\n",
       "  Text(13, 0, 'Collected Stories'),\n",
       "  Text(14, 0, 'The Secret Garden'),\n",
       "  Text(15, 0, 'The Great Gatsby'),\n",
       "  Text(16, 0, 'Jane Eyre'),\n",
       "  Text(17, 0, 'Macbeth'),\n",
       "  Text(18, 0, 'Robinson Crusoe'),\n",
       "  Text(19, 0, 'One Hundred Years of Solitude')])"
      ]
     },
     "execution_count": 85,
     "metadata": {},
     "output_type": "execute_result"
    },
    {
     "data": {
      "image/png": "[encoded data removed]",
      "text/plain": [
       "<Figure size 2000x1000 with 1 Axes>"
      ]
     },
     "metadata": {},
     "output_type": "display_data"
    }
   ],
   "source": [
    "# most find occuring book in the data\n",
    "plt.figure(figsize=(20 , 10))\n",
    "sns.barplot(x = book.index , y = book , palette=\"winter_r\")\n",
    "plt.title(\"Most Occuring Books\")\n",
    "plt.xlabel(\"No of occuring \")\n",
    "plt.xticks(rotation = 80, fontsize=15)"
   ]
  },
  {
   "cell_type": "code",
   "execution_count": 86,
   "id": "e230e25d",
   "metadata": {},
   "outputs": [
    {
     "name": "stderr",
     "output_type": "stream",
     "text": [
      "C:\\Temp\\ipykernel_3168\\640360161.py:2: UserWarning: \n",
      "\n",
      "`distplot` is a deprecated function and will be removed in seaborn v0.14.0.\n",
      "\n",
      "Please adapt your code to use either `displot` (a figure-level function with\n",
      "similar flexibility) or `histplot` (an axes-level function for histograms).\n",
      "\n",
      "For a guide to updating your code to use the new functions, please see\n",
      "https://gist.github.com/mwaskom/de44147ed2974457ad6372750bbe5751\n",
      "\n",
      "  sns.distplot(data[\"average_rating\"])\n"
     ]
    },
    {
     "data": {
      "text/plain": [
       "<Axes: xlabel='average_rating', ylabel='Density'>"
      ]
     },
     "execution_count": 86,
     "metadata": {},
     "output_type": "execute_result"
    },
    {
     "data": {
      "image/png": "[encoded data removed]",
      "text/plain": [
       "<Figure size 640x480 with 1 Axes>"
      ]
     },
     "metadata": {},
     "output_type": "display_data"
    }
   ],
   "source": [
    "# average ratings\n",
    "sns.distplot(data[\"average_rating\"])"
   ]
  },
  {
   "cell_type": "code",
   "execution_count": 117,
   "id": "9df08cd7",
   "metadata": {},
   "outputs": [
    {
     "data": {
      "text/html": [
       "<div>\n",
       "<style scoped>\n",
       "    .dataframe tbody tr th:only-of-type {\n",
       "        vertical-align: middle;\n",
       "    }\n",
       "\n",
       "    .dataframe tbody tr th {\n",
       "        vertical-align: top;\n",
       "    }\n",
       "\n",
       "    .dataframe thead th {\n",
       "        text-align: right;\n",
       "    }\n",
       "</style>\n",
       "<table border=\"1\" class=\"dataframe\">\n",
       "  <thead>\n",
       "    <tr style=\"text-align: right;\">\n",
       "      <th></th>\n",
       "      <th>authors</th>\n",
       "      <th>average_rating</th>\n",
       "    </tr>\n",
       "  </thead>\n",
       "  <tbody>\n",
       "    <tr>\n",
       "      <th>624</th>\n",
       "      <td>Aristophanes/F.W. Hall/W.M. Geldart</td>\n",
       "      <td>5.0</td>\n",
       "    </tr>\n",
       "    <tr>\n",
       "      <th>786</th>\n",
       "      <td>Julie Sylvester/David Sylvester</td>\n",
       "      <td>5.0</td>\n",
       "    </tr>\n",
       "    <tr>\n",
       "      <th>855</th>\n",
       "      <td>Tara MacCarthy</td>\n",
       "      <td>5.0</td>\n",
       "    </tr>\n",
       "    <tr>\n",
       "      <th>1243</th>\n",
       "      <td>Middlesex Borough Heritage Committee</td>\n",
       "      <td>5.0</td>\n",
       "    </tr>\n",
       "    <tr>\n",
       "      <th>4125</th>\n",
       "      <td>Tim Bogenn</td>\n",
       "      <td>5.0</td>\n",
       "    </tr>\n",
       "    <tr>\n",
       "      <th>4788</th>\n",
       "      <td>John  Diamond</td>\n",
       "      <td>5.0</td>\n",
       "    </tr>\n",
       "    <tr>\n",
       "      <th>4933</th>\n",
       "      <td>Elena N. Mahlow</td>\n",
       "      <td>5.0</td>\n",
       "    </tr>\n",
       "    <tr>\n",
       "      <th>5023</th>\n",
       "      <td>Ian        Martin/Katie Elliott</td>\n",
       "      <td>5.0</td>\n",
       "    </tr>\n",
       "    <tr>\n",
       "      <th>5474</th>\n",
       "      <td>NOT A BOOK</td>\n",
       "      <td>5.0</td>\n",
       "    </tr>\n",
       "    <tr>\n",
       "      <th>5476</th>\n",
       "      <td>NOT A BOOK</td>\n",
       "      <td>5.0</td>\n",
       "    </tr>\n",
       "    <tr>\n",
       "      <th>5647</th>\n",
       "      <td>Dennis Adler/R.L. Wilson</td>\n",
       "      <td>5.0</td>\n",
       "    </tr>\n",
       "    <tr>\n",
       "      <th>5648</th>\n",
       "      <td>R. McL. Wilson</td>\n",
       "      <td>5.0</td>\n",
       "    </tr>\n",
       "    <tr>\n",
       "      <th>6184</th>\n",
       "      <td>Ross Garnaut</td>\n",
       "      <td>5.0</td>\n",
       "    </tr>\n",
       "    <tr>\n",
       "      <th>6247</th>\n",
       "      <td>Todd Davis/Marc Frey</td>\n",
       "      <td>5.0</td>\n",
       "    </tr>\n",
       "    <tr>\n",
       "      <th>6775</th>\n",
       "      <td>Nicholas    Evans/Rhonda  Evans</td>\n",
       "      <td>5.0</td>\n",
       "    </tr>\n",
       "    <tr>\n",
       "      <th>8544</th>\n",
       "      <td>Chris    Green/Chris Wright/Paul Douglas Gardner</td>\n",
       "      <td>5.0</td>\n",
       "    </tr>\n",
       "    <tr>\n",
       "      <th>9282</th>\n",
       "      <td>William C. Dowling</td>\n",
       "      <td>5.0</td>\n",
       "    </tr>\n",
       "    <tr>\n",
       "      <th>9324</th>\n",
       "      <td>Laura Driscoll/Alisa Klayman-Grodsky/Eric     ...</td>\n",
       "      <td>5.0</td>\n",
       "    </tr>\n",
       "    <tr>\n",
       "      <th>9720</th>\n",
       "      <td>Keith Donohue</td>\n",
       "      <td>5.0</td>\n",
       "    </tr>\n",
       "    <tr>\n",
       "      <th>9847</th>\n",
       "      <td>James E. Campbell</td>\n",
       "      <td>5.0</td>\n",
       "    </tr>\n",
       "    <tr>\n",
       "      <th>9893</th>\n",
       "      <td>Sheri Rose Shepherd</td>\n",
       "      <td>5.0</td>\n",
       "    </tr>\n",
       "    <tr>\n",
       "      <th>10262</th>\n",
       "      <td>Sara Barton-Wood</td>\n",
       "      <td>5.0</td>\n",
       "    </tr>\n",
       "  </tbody>\n",
       "</table>\n",
       "</div>"
      ],
      "text/plain": [
       "                                                 authors  average_rating\n",
       "624                  Aristophanes/F.W. Hall/W.M. Geldart             5.0\n",
       "786                      Julie Sylvester/David Sylvester             5.0\n",
       "855                                       Tara MacCarthy             5.0\n",
       "1243                Middlesex Borough Heritage Committee             5.0\n",
       "4125                                          Tim Bogenn             5.0\n",
       "4788                                       John  Diamond             5.0\n",
       "4933                                     Elena N. Mahlow             5.0\n",
       "5023                     Ian        Martin/Katie Elliott             5.0\n",
       "5474                                          NOT A BOOK             5.0\n",
       "5476                                          NOT A BOOK             5.0\n",
       "5647                            Dennis Adler/R.L. Wilson             5.0\n",
       "5648                                      R. McL. Wilson             5.0\n",
       "6184                                        Ross Garnaut             5.0\n",
       "6247                                Todd Davis/Marc Frey             5.0\n",
       "6775                     Nicholas    Evans/Rhonda  Evans             5.0\n",
       "8544    Chris    Green/Chris Wright/Paul Douglas Gardner             5.0\n",
       "9282                                  William C. Dowling             5.0\n",
       "9324   Laura Driscoll/Alisa Klayman-Grodsky/Eric     ...             5.0\n",
       "9720                                       Keith Donohue             5.0\n",
       "9847                                   James E. Campbell             5.0\n",
       "9893                                 Sheri Rose Shepherd             5.0\n",
       "10262                                   Sara Barton-Wood             5.0"
      ]
     },
     "execution_count": 117,
     "metadata": {},
     "output_type": "execute_result"
    }
   ],
   "source": [
    "data[data[\"average_rating\"] == data[\"average_rating\"].max()][[\"authors\", \"average_rating\"]]"
   ]
  },
  {
   "cell_type": "code",
   "execution_count": 112,
   "id": "f779318c",
   "metadata": {},
   "outputs": [
    {
     "data": {
      "text/plain": [
       "title                 Comoediae 1: Acharenses/Equites/Nubes/Vespae/P...\n",
       "authors                             Aristophanes/F.W. Hall/W.M. Geldart\n",
       "average_rating                                                      5.0\n",
       "language_code                                                       grc\n",
       "num_pages                                                           364\n",
       "ratings_count                                                         0\n",
       "text_reviews_count                                                    0\n",
       "publication_date                                              2/22/1922\n",
       "publisher                                  Oxford University Press  USA\n",
       "year                                                               1922\n",
       "Name: 624, dtype: object"
      ]
     },
     "execution_count": 112,
     "metadata": {},
     "output_type": "execute_result"
    }
   ],
   "source": [
    "data.iloc[624]"
   ]
  },
  {
   "cell_type": "code",
   "execution_count": null,
   "id": "9f83df80",
   "metadata": {},
   "outputs": [],
   "source": []
  }
 ],
 "metadata": {
  "kernelspec": {
   "display_name": "Python 3 (ipykernel)",
   "language": "python",
   "name": "python3"
  },
  "language_info": {
   "codemirror_mode": {
    "name": "ipython",
    "version": 3
   },
   "file_extension": ".py",
   "mimetype": "text/x-python",
   "name": "python",
   "nbconvert_exporter": "python",
   "pygments_lexer": "ipython3",
   "version": "3.8.8"
  }
 },
 "nbformat": 4,
 "nbformat_minor": 5
}
